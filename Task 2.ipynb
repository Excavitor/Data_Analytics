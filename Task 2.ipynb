{
 "cells": [
  {
   "cell_type": "markdown",
   "id": "e6f30e05-f712-4cf1-95cb-d36d50147fb7",
   "metadata": {},
   "source": [
    "# Shad Abdullah, Intern ID - i23b0034s05"
   ]
  },
  {
   "cell_type": "markdown",
   "id": "7ba0e6c3-146b-41dc-b220-cb397cabca1a",
   "metadata": {},
   "source": [
    "# Practice Problem 1.1"
   ]
  },
  {
   "cell_type": "code",
   "execution_count": 1,
   "id": "2a741522-4c2d-4386-8456-9bdae55b6497",
   "metadata": {},
   "outputs": [
    {
     "name": "stdout",
     "output_type": "stream",
     "text": [
      "int =  2 \n",
      "float =  3.5 \n",
      "String =  shad\n",
      "converted into a string =  23.5shad\n"
     ]
    }
   ],
   "source": [
    "x,y,z = 2,3.5,'shad'\n",
    "print('int = ',x,'\\nfloat = ',y,'\\nString = ',z)\n",
    "x = str(2)\n",
    "y = str(3.5)\n",
    "print('converted into a string = ',x+y+z)"
   ]
  },
  {
   "cell_type": "markdown",
   "id": "58e3bfe2-b437-4126-90e9-4eb59a50e682",
   "metadata": {},
   "source": [
    "# Practice Problem 1.2"
   ]
  },
  {
   "cell_type": "code",
   "execution_count": 2,
   "id": "74e7fc53-da13-4793-bc30-61a4ab7779a9",
   "metadata": {},
   "outputs": [
    {
     "name": "stdout",
     "output_type": "stream",
     "text": [
      "Large number =  100\n"
     ]
    }
   ],
   "source": [
    "large = [10, 0, 55, 88, 100, -56, 80]\n",
    "a = 0\n",
    "for i in large:\n",
    "    if i > a:\n",
    "        a = i\n",
    "        #print('Large number = ',i)\n",
    "print('Large number = ',a)"
   ]
  },
  {
   "cell_type": "markdown",
   "id": "b1f2e863-a358-4151-b4ba-d169ab0f4ecf",
   "metadata": {},
   "source": [
    "# Practice Problem 1.3"
   ]
  },
  {
   "cell_type": "code",
   "execution_count": 3,
   "id": "fae96dc3-7706-4611-af0b-a9418bfaf52b",
   "metadata": {},
   "outputs": [
    {
     "name": "stdout",
     "output_type": "stream",
     "text": [
      "Your daghteisvyp\n"
     ]
    }
   ],
   "source": [
    "rima = \"Your daughter is very pretty\"\n",
    "lima = \"\"\n",
    "for i in rima:\n",
    "    if i not in lima:\n",
    "        lima = lima + i\n",
    "print(lima)"
   ]
  },
  {
   "cell_type": "markdown",
   "id": "0aa00d1a-665a-446d-8c7a-85f0fdbfc024",
   "metadata": {},
   "source": [
    "# Practice problem 1.4"
   ]
  },
  {
   "cell_type": "code",
   "execution_count": 4,
   "id": "7609d0d6-9a47-464f-8886-2d9dd0bee61d",
   "metadata": {},
   "outputs": [
    {
     "name": "stdout",
     "output_type": "stream",
     "text": [
      "Expected Result : 2\n"
     ]
    }
   ],
   "source": [
    "string = ['abc', 'xyz', 'a', 'aba', '1221']\n",
    "count = 0\n",
    "for i in string:\n",
    "    if len(i) >= 2 and i[0] == i[-1]:\n",
    "            count += 1\n",
    "print(\"Expected Result :\", count)"
   ]
  },
  {
   "cell_type": "markdown",
   "id": "e4343f66-50cb-41ac-924c-208168060793",
   "metadata": {},
   "source": [
    "# Practice problem 1.5"
   ]
  },
  {
   "cell_type": "code",
   "execution_count": 5,
   "id": "d0b3556e-7463-4787-bc9a-88a3097a1d0b",
   "metadata": {},
   "outputs": [
    {
     "name": "stdout",
     "output_type": "stream",
     "text": [
      "No. of Upper case characters : 4\n",
      "No. of Lower case characters : 45\n"
     ]
    }
   ],
   "source": [
    "string = \"Bangladesh has played 396 ODI matches resulting in 142 victories\"\n",
    "up_count = 0\n",
    "low_count = 0\n",
    "for i in string:\n",
    "        if i.isupper():\n",
    "            up_count += 1\n",
    "        elif i.islower():\n",
    "            low_count += 1\n",
    "print(\"No. of Upper case characters :\", up_count)\n",
    "print(\"No. of Lower case characters :\", low_count)"
   ]
  },
  {
   "cell_type": "markdown",
   "id": "dcfc3cff-22d4-455e-baf5-06862eefce17",
   "metadata": {},
   "source": [
    "# Practice Problem 1.6"
   ]
  },
  {
   "cell_type": "code",
   "execution_count": 6,
   "id": "f796a9b4-272d-44f1-a9d6-50dd7247231f",
   "metadata": {},
   "outputs": [
    {
     "name": "stdout",
     "output_type": "stream",
     "text": [
      " black,  green,  red,  white, red\n"
     ]
    }
   ],
   "source": [
    "string = \"red, white, black, red, green, black\"\n",
    "splited_word = string.split(',')\n",
    "#print(splited_word)\n",
    "create_set = set(splited_word)\n",
    "#print(create_set)\n",
    "sorted_set = sorted(create_set)\n",
    "#print(sorted_set)\n",
    "print(\", \".join(sorted_set))"
   ]
  },
  {
   "cell_type": "markdown",
   "id": "c5232abf-0cb6-4024-9b05-a94e587d135a",
   "metadata": {},
   "source": [
    "# Practice Problem 1.7"
   ]
  },
  {
   "cell_type": "code",
   "execution_count": 7,
   "id": "479680a5-e709-4d12-85ee-fc7909abeda3",
   "metadata": {},
   "outputs": [
    {
     "name": "stdout",
     "output_type": "stream",
     "text": [
      "t 2\n",
      "h 2\n",
      "e 3\n",
      "u 2\n",
      "r 2\n",
      "o 4\n"
     ]
    }
   ],
   "source": [
    "string = \"thequickbrownfoxjumpsoverthelazydog\"\n",
    "count = {}\n",
    "\n",
    "for i in string:\n",
    "    if i not in count:\n",
    "        count[i] = 1\n",
    "    else:\n",
    "        count[i] += 1\n",
    "\n",
    "for i, j in count.items():\n",
    "    if j > 1:\n",
    "        print(i, j)"
   ]
  },
  {
   "cell_type": "markdown",
   "id": "61372b9c-7e7d-447f-b3dd-6fb8309c8cbc",
   "metadata": {},
   "source": [
    "# Practice Problem 1.8"
   ]
  },
  {
   "cell_type": "code",
   "execution_count": 8,
   "id": "7bc7f2cf-fee9-4e0f-9406-a8340b3e1799",
   "metadata": {},
   "outputs": [
    {
     "name": "stdout",
     "output_type": "stream",
     "text": [
      "Welcome to the Python Wiki, a user-editable compendium of knowledge based around the Python programming language. Some pages are protected \n",
      "against casual editing - see WikiEditingGuidelines for more information about editing content.Python is a great object-oriented, interpreted, and interactive programming language. It is often compared (favorably of course :-) )\n",
      "to Lisp, Tcl, Perl, Ruby, C#, Visual Basic, Visual Fox Pro, Scheme or Java...and it's much more fun.\n"
     ]
    }
   ],
   "source": [
    "files = [\"words1.txt\", \"words2.txt\"]\n",
    "strings = []\n",
    "\n",
    "for i in files:\n",
    "    try:\n",
    "        with open(i, \"r\") as file:\n",
    "            file_content = file.read()\n",
    "            strings.append(file_content)\n",
    "    except FileNotFoundError:\n",
    "        print(f\"File '{i}' not found.\")\n",
    "\n",
    "joining = ''.join(strings)\n",
    "print(joining)"
   ]
  }
 ],
 "metadata": {
  "kernelspec": {
   "display_name": "Python 3 (ipykernel)",
   "language": "python",
   "name": "python3"
  },
  "language_info": {
   "codemirror_mode": {
    "name": "ipython",
    "version": 3
   },
   "file_extension": ".py",
   "mimetype": "text/x-python",
   "name": "python",
   "nbconvert_exporter": "python",
   "pygments_lexer": "ipython3",
   "version": "3.9.13"
  }
 },
 "nbformat": 4,
 "nbformat_minor": 5
}
