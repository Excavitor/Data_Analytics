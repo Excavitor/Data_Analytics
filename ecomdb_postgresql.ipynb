{
 "cells": [
  {
   "cell_type": "code",
   "execution_count": 1,
   "id": "e52d9e82-6026-477f-94ef-19e32ad5bb71",
   "metadata": {},
   "outputs": [],
   "source": [
    "import numpy as np\n",
    "import pandas as pd\n",
    "import matplotlib.pyplot as plt\n",
    "import seaborn as sns\n",
    "\n",
    "tc = sns.load_dataset(\"titanic\")\n",
    "\n",
    "%matplotlib inline"
   ]
  },
  {
   "cell_type": "code",
   "execution_count": 2,
   "id": "91fdf649-4d27-4ce1-bd52-12215663181a",
   "metadata": {},
   "outputs": [],
   "source": [
    "fact_table = pd.read_excel(r'e-com-sales-out.xlsx', sheet_name='Fact_table', engine='openpyxl')\n",
    "trans_dim = pd.read_excel(r'e-com-sales-out.xlsx', sheet_name='Trans_dim', engine='openpyxl')\n",
    "item_dim = pd.read_excel(r'e-com-sales-out.xlsx', sheet_name='Item_dim', engine='openpyxl')\n",
    "customer_dim = pd.read_excel(r'e-com-sales-out.xlsx', sheet_name='Customer_dim', engine='openpyxl')\n",
    "time_dim = pd.read_excel(r'e-com-sales-out.xlsx', sheet_name='Time_dim', engine='openpyxl')\n",
    "store_dim = pd.read_excel(r'e-com-sales-out.xlsx', sheet_name='Store_dim', engine='openpyxl')"
   ]
  },
  {
   "cell_type": "code",
   "execution_count": 3,
   "id": "1ba2621b-413b-49e5-99ea-270eb146511f",
   "metadata": {},
   "outputs": [
    {
     "data": {
      "text/html": [
       "<div>\n",
       "<style scoped>\n",
       "    .dataframe tbody tr th:only-of-type {\n",
       "        vertical-align: middle;\n",
       "    }\n",
       "\n",
       "    .dataframe tbody tr th {\n",
       "        vertical-align: top;\n",
       "    }\n",
       "\n",
       "    .dataframe thead th {\n",
       "        text-align: right;\n",
       "    }\n",
       "</style>\n",
       "<table border=\"1\" class=\"dataframe\">\n",
       "  <thead>\n",
       "    <tr style=\"text-align: right;\">\n",
       "      <th></th>\n",
       "      <th>payment_key</th>\n",
       "      <th>coustomer_key</th>\n",
       "      <th>time_key</th>\n",
       "      <th>item_key</th>\n",
       "      <th>store_key</th>\n",
       "      <th>quantity</th>\n",
       "      <th>unit</th>\n",
       "      <th>unit_price</th>\n",
       "      <th>total_price</th>\n",
       "    </tr>\n",
       "  </thead>\n",
       "  <tbody>\n",
       "    <tr>\n",
       "      <th>0</th>\n",
       "      <td>P025</td>\n",
       "      <td>C001495</td>\n",
       "      <td>T08774</td>\n",
       "      <td>I00185</td>\n",
       "      <td>S0038</td>\n",
       "      <td>19</td>\n",
       "      <td>ct</td>\n",
       "      <td>14.00</td>\n",
       "      <td>266.0</td>\n",
       "    </tr>\n",
       "    <tr>\n",
       "      <th>1</th>\n",
       "      <td>P009</td>\n",
       "      <td>C000904</td>\n",
       "      <td>T09092</td>\n",
       "      <td>I00017</td>\n",
       "      <td>S0007</td>\n",
       "      <td>8</td>\n",
       "      <td>cans</td>\n",
       "      <td>6.75</td>\n",
       "      <td>54.0</td>\n",
       "    </tr>\n",
       "    <tr>\n",
       "      <th>2</th>\n",
       "      <td>P019</td>\n",
       "      <td>C001627</td>\n",
       "      <td>T03980</td>\n",
       "      <td>I00235</td>\n",
       "      <td>S0013</td>\n",
       "      <td>1</td>\n",
       "      <td>ct</td>\n",
       "      <td>14.00</td>\n",
       "      <td>14.0</td>\n",
       "    </tr>\n",
       "    <tr>\n",
       "      <th>3</th>\n",
       "      <td>P004</td>\n",
       "      <td>C001606</td>\n",
       "      <td>T00982</td>\n",
       "      <td>I00232</td>\n",
       "      <td>S0038</td>\n",
       "      <td>7</td>\n",
       "      <td>ct</td>\n",
       "      <td>12.00</td>\n",
       "      <td>84.0</td>\n",
       "    </tr>\n",
       "    <tr>\n",
       "      <th>4</th>\n",
       "      <td>P019</td>\n",
       "      <td>C001273</td>\n",
       "      <td>T09057</td>\n",
       "      <td>I00075</td>\n",
       "      <td>S0012</td>\n",
       "      <td>35</td>\n",
       "      <td>cans</td>\n",
       "      <td>15.50</td>\n",
       "      <td>542.5</td>\n",
       "    </tr>\n",
       "    <tr>\n",
       "      <th>...</th>\n",
       "      <td>...</td>\n",
       "      <td>...</td>\n",
       "      <td>...</td>\n",
       "      <td>...</td>\n",
       "      <td>...</td>\n",
       "      <td>...</td>\n",
       "      <td>...</td>\n",
       "      <td>...</td>\n",
       "      <td>...</td>\n",
       "    </tr>\n",
       "    <tr>\n",
       "      <th>9995</th>\n",
       "      <td>P007</td>\n",
       "      <td>C001501</td>\n",
       "      <td>T06807</td>\n",
       "      <td>I00028</td>\n",
       "      <td>S0007</td>\n",
       "      <td>10</td>\n",
       "      <td>cans</td>\n",
       "      <td>6.75</td>\n",
       "      <td>67.5</td>\n",
       "    </tr>\n",
       "    <tr>\n",
       "      <th>9996</th>\n",
       "      <td>P004</td>\n",
       "      <td>C000405</td>\n",
       "      <td>T02560</td>\n",
       "      <td>I00143</td>\n",
       "      <td>S0031</td>\n",
       "      <td>43</td>\n",
       "      <td>ct</td>\n",
       "      <td>16.00</td>\n",
       "      <td>688.0</td>\n",
       "    </tr>\n",
       "    <tr>\n",
       "      <th>9997</th>\n",
       "      <td>P015</td>\n",
       "      <td>C001789</td>\n",
       "      <td>T07589</td>\n",
       "      <td>I00142</td>\n",
       "      <td>S0021</td>\n",
       "      <td>152</td>\n",
       "      <td>ct</td>\n",
       "      <td>12.50</td>\n",
       "      <td>1900.0</td>\n",
       "    </tr>\n",
       "    <tr>\n",
       "      <th>9998</th>\n",
       "      <td>P003</td>\n",
       "      <td>C001500</td>\n",
       "      <td>T00881</td>\n",
       "      <td>I00194</td>\n",
       "      <td>S0037</td>\n",
       "      <td>19</td>\n",
       "      <td>bars</td>\n",
       "      <td>23.00</td>\n",
       "      <td>437.0</td>\n",
       "    </tr>\n",
       "    <tr>\n",
       "      <th>9999</th>\n",
       "      <td>P013</td>\n",
       "      <td>C000035</td>\n",
       "      <td>T02979</td>\n",
       "      <td>I00120</td>\n",
       "      <td>S0041</td>\n",
       "      <td>1</td>\n",
       "      <td>ct</td>\n",
       "      <td>9.00</td>\n",
       "      <td>9.0</td>\n",
       "    </tr>\n",
       "  </tbody>\n",
       "</table>\n",
       "<p>10000 rows × 9 columns</p>\n",
       "</div>"
      ],
      "text/plain": [
       "     payment_key coustomer_key time_key item_key store_key  quantity  unit  \\\n",
       "0           P025       C001495   T08774   I00185     S0038        19    ct   \n",
       "1           P009       C000904   T09092   I00017     S0007         8  cans   \n",
       "2           P019       C001627   T03980   I00235     S0013         1    ct   \n",
       "3           P004       C001606   T00982   I00232     S0038         7    ct   \n",
       "4           P019       C001273   T09057   I00075     S0012        35  cans   \n",
       "...          ...           ...      ...      ...       ...       ...   ...   \n",
       "9995        P007       C001501   T06807   I00028     S0007        10  cans   \n",
       "9996        P004       C000405   T02560   I00143     S0031        43    ct   \n",
       "9997        P015       C001789   T07589   I00142     S0021       152    ct   \n",
       "9998        P003       C001500   T00881   I00194     S0037        19  bars   \n",
       "9999        P013       C000035   T02979   I00120     S0041         1    ct   \n",
       "\n",
       "      unit_price  total_price  \n",
       "0          14.00        266.0  \n",
       "1           6.75         54.0  \n",
       "2          14.00         14.0  \n",
       "3          12.00         84.0  \n",
       "4          15.50        542.5  \n",
       "...          ...          ...  \n",
       "9995        6.75         67.5  \n",
       "9996       16.00        688.0  \n",
       "9997       12.50       1900.0  \n",
       "9998       23.00        437.0  \n",
       "9999        9.00          9.0  \n",
       "\n",
       "[10000 rows x 9 columns]"
      ]
     },
     "execution_count": 3,
     "metadata": {},
     "output_type": "execute_result"
    }
   ],
   "source": [
    "fact_table"
   ]
  },
  {
   "cell_type": "code",
   "execution_count": 4,
   "id": "1ff93a73-6a04-459d-ba0a-b758ca431dd3",
   "metadata": {},
   "outputs": [
    {
     "name": "stdout",
     "output_type": "stream",
     "text": [
      "Requirement already satisfied: psycopg2 in e:\\internship\\shadvenv\\lib\\site-packages (2.9.9)\n"
     ]
    }
   ],
   "source": [
    "!pip install psycopg2"
   ]
  },
  {
   "cell_type": "code",
   "execution_count": 5,
   "id": "214bcf95-2c0b-445f-a7b4-2d4c09571204",
   "metadata": {},
   "outputs": [],
   "source": [
    "import psycopg2\n",
    "import psycopg2.extras"
   ]
  },
  {
   "cell_type": "code",
   "execution_count": 6,
   "id": "d9b77250-826e-4db0-9d12-c2201597d03f",
   "metadata": {},
   "outputs": [
    {
     "data": {
      "text/plain": [
       "item_key           object\n",
       "item_name          object\n",
       "description        object\n",
       "unit_price        float64\n",
       "stock_quantity      int64\n",
       "unit               object\n",
       "dtype: object"
      ]
     },
     "execution_count": 6,
     "metadata": {},
     "output_type": "execute_result"
    }
   ],
   "source": [
    "item_dim.dtypes"
   ]
  },
  {
   "cell_type": "code",
   "execution_count": 7,
   "id": "3ed16570-f165-4ca0-ba12-86a1c50f6295",
   "metadata": {},
   "outputs": [],
   "source": [
    "item_dim['unit_price'] = pd.to_numeric(item_dim['unit_price'])"
   ]
  },
  {
   "cell_type": "code",
   "execution_count": 8,
   "id": "e27164af-5ece-4de4-b36a-8ef771648810",
   "metadata": {},
   "outputs": [
    {
     "data": {
      "text/plain": [
       "item_key           object\n",
       "item_name          object\n",
       "description        object\n",
       "unit_price        float64\n",
       "stock_quantity      int64\n",
       "unit               object\n",
       "dtype: object"
      ]
     },
     "execution_count": 8,
     "metadata": {},
     "output_type": "execute_result"
    }
   ],
   "source": [
    "item_dim.dtypes"
   ]
  },
  {
   "cell_type": "code",
   "execution_count": 9,
   "id": "d785000b-a6de-4018-ade4-9f990771241d",
   "metadata": {},
   "outputs": [
    {
     "data": {
      "text/plain": [
       "time_key    object\n",
       "date        object\n",
       "hour         int64\n",
       "day          int64\n",
       "week        object\n",
       "month        int64\n",
       "quarter     object\n",
       "year         int64\n",
       "dtype: object"
      ]
     },
     "execution_count": 9,
     "metadata": {},
     "output_type": "execute_result"
    }
   ],
   "source": [
    "time_dim.dtypes"
   ]
  },
  {
   "cell_type": "code",
   "execution_count": 10,
   "id": "af6af571-de36-46f5-b8a7-bd2a086358cb",
   "metadata": {},
   "outputs": [
    {
     "data": {
      "text/html": [
       "<div>\n",
       "<style scoped>\n",
       "    .dataframe tbody tr th:only-of-type {\n",
       "        vertical-align: middle;\n",
       "    }\n",
       "\n",
       "    .dataframe tbody tr th {\n",
       "        vertical-align: top;\n",
       "    }\n",
       "\n",
       "    .dataframe thead th {\n",
       "        text-align: right;\n",
       "    }\n",
       "</style>\n",
       "<table border=\"1\" class=\"dataframe\">\n",
       "  <thead>\n",
       "    <tr style=\"text-align: right;\">\n",
       "      <th></th>\n",
       "      <th>time_key</th>\n",
       "      <th>date</th>\n",
       "      <th>hour</th>\n",
       "      <th>day</th>\n",
       "      <th>week</th>\n",
       "      <th>month</th>\n",
       "      <th>quarter</th>\n",
       "      <th>year</th>\n",
       "    </tr>\n",
       "  </thead>\n",
       "  <tbody>\n",
       "    <tr>\n",
       "      <th>0</th>\n",
       "      <td>T00001</td>\n",
       "      <td>2015-08-06 13:53:00</td>\n",
       "      <td>13</td>\n",
       "      <td>8</td>\n",
       "      <td>2nd Week</td>\n",
       "      <td>6</td>\n",
       "      <td>Q2</td>\n",
       "      <td>2015</td>\n",
       "    </tr>\n",
       "    <tr>\n",
       "      <th>1</th>\n",
       "      <td>T00002</td>\n",
       "      <td>2014-06-30 07:44:00</td>\n",
       "      <td>7</td>\n",
       "      <td>30</td>\n",
       "      <td>4th Week</td>\n",
       "      <td>6</td>\n",
       "      <td>Q2</td>\n",
       "      <td>2014</td>\n",
       "    </tr>\n",
       "    <tr>\n",
       "      <th>2</th>\n",
       "      <td>T00003</td>\n",
       "      <td>2014-03-11 05:32:00</td>\n",
       "      <td>5</td>\n",
       "      <td>3</td>\n",
       "      <td>1st Week</td>\n",
       "      <td>11</td>\n",
       "      <td>Q4</td>\n",
       "      <td>2014</td>\n",
       "    </tr>\n",
       "    <tr>\n",
       "      <th>3</th>\n",
       "      <td>T00004</td>\n",
       "      <td>2018-09-10 16:09:00</td>\n",
       "      <td>16</td>\n",
       "      <td>9</td>\n",
       "      <td>2nd Week</td>\n",
       "      <td>10</td>\n",
       "      <td>Q4</td>\n",
       "      <td>2018</td>\n",
       "    </tr>\n",
       "    <tr>\n",
       "      <th>4</th>\n",
       "      <td>T00005</td>\n",
       "      <td>2020-05-25 08:32:00</td>\n",
       "      <td>8</td>\n",
       "      <td>25</td>\n",
       "      <td>4th Week</td>\n",
       "      <td>5</td>\n",
       "      <td>Q2</td>\n",
       "      <td>2020</td>\n",
       "    </tr>\n",
       "    <tr>\n",
       "      <th>...</th>\n",
       "      <td>...</td>\n",
       "      <td>...</td>\n",
       "      <td>...</td>\n",
       "      <td>...</td>\n",
       "      <td>...</td>\n",
       "      <td>...</td>\n",
       "      <td>...</td>\n",
       "      <td>...</td>\n",
       "    </tr>\n",
       "    <tr>\n",
       "      <th>9994</th>\n",
       "      <td>T09995</td>\n",
       "      <td>2022-12-09 17:55:00</td>\n",
       "      <td>17</td>\n",
       "      <td>12</td>\n",
       "      <td>2nd Week</td>\n",
       "      <td>9</td>\n",
       "      <td>Q3</td>\n",
       "      <td>2022</td>\n",
       "    </tr>\n",
       "    <tr>\n",
       "      <th>9995</th>\n",
       "      <td>T09996</td>\n",
       "      <td>2020-07-28 16:39:00</td>\n",
       "      <td>16</td>\n",
       "      <td>28</td>\n",
       "      <td>4th Week</td>\n",
       "      <td>7</td>\n",
       "      <td>Q3</td>\n",
       "      <td>2020</td>\n",
       "    </tr>\n",
       "    <tr>\n",
       "      <th>9996</th>\n",
       "      <td>T09997</td>\n",
       "      <td>2017-04-07 12:28:00</td>\n",
       "      <td>12</td>\n",
       "      <td>4</td>\n",
       "      <td>1st Week</td>\n",
       "      <td>7</td>\n",
       "      <td>Q3</td>\n",
       "      <td>2017</td>\n",
       "    </tr>\n",
       "    <tr>\n",
       "      <th>9997</th>\n",
       "      <td>T09998</td>\n",
       "      <td>2022-02-28 22:42:00</td>\n",
       "      <td>22</td>\n",
       "      <td>28</td>\n",
       "      <td>4th Week</td>\n",
       "      <td>2</td>\n",
       "      <td>Q1</td>\n",
       "      <td>2022</td>\n",
       "    </tr>\n",
       "    <tr>\n",
       "      <th>9998</th>\n",
       "      <td>T09999</td>\n",
       "      <td>2014-12-14 08:24:00</td>\n",
       "      <td>8</td>\n",
       "      <td>14</td>\n",
       "      <td>2nd Week</td>\n",
       "      <td>12</td>\n",
       "      <td>Q4</td>\n",
       "      <td>2014</td>\n",
       "    </tr>\n",
       "  </tbody>\n",
       "</table>\n",
       "<p>9999 rows × 8 columns</p>\n",
       "</div>"
      ],
      "text/plain": [
       "     time_key                date  hour  day      week  month quarter  year\n",
       "0      T00001 2015-08-06 13:53:00    13    8  2nd Week      6      Q2  2015\n",
       "1      T00002 2014-06-30 07:44:00     7   30  4th Week      6      Q2  2014\n",
       "2      T00003 2014-03-11 05:32:00     5    3  1st Week     11      Q4  2014\n",
       "3      T00004 2018-09-10 16:09:00    16    9  2nd Week     10      Q4  2018\n",
       "4      T00005 2020-05-25 08:32:00     8   25  4th Week      5      Q2  2020\n",
       "...       ...                 ...   ...  ...       ...    ...     ...   ...\n",
       "9994   T09995 2022-12-09 17:55:00    17   12  2nd Week      9      Q3  2022\n",
       "9995   T09996 2020-07-28 16:39:00    16   28  4th Week      7      Q3  2020\n",
       "9996   T09997 2017-04-07 12:28:00    12    4  1st Week      7      Q3  2017\n",
       "9997   T09998 2022-02-28 22:42:00    22   28  4th Week      2      Q1  2022\n",
       "9998   T09999 2014-12-14 08:24:00     8   14  2nd Week     12      Q4  2014\n",
       "\n",
       "[9999 rows x 8 columns]"
      ]
     },
     "execution_count": 10,
     "metadata": {},
     "output_type": "execute_result"
    }
   ],
   "source": [
    "time_dim['date'] = pd.to_datetime(time_dim['date'], format=\"mixed\")\n",
    "time_dim"
   ]
  },
  {
   "cell_type": "code",
   "execution_count": 11,
   "id": "96022b1c-54fc-4573-898c-9c462ec68abd",
   "metadata": {},
   "outputs": [
    {
     "data": {
      "text/plain": [
       "time_key            object\n",
       "date        datetime64[ns]\n",
       "hour                 int64\n",
       "day                  int64\n",
       "week                object\n",
       "month                int64\n",
       "quarter             object\n",
       "year                 int64\n",
       "dtype: object"
      ]
     },
     "execution_count": 11,
     "metadata": {},
     "output_type": "execute_result"
    }
   ],
   "source": [
    "time_dim.dtypes"
   ]
  },
  {
   "cell_type": "code",
   "execution_count": 12,
   "id": "c2699297-1f52-4918-a1e7-0dcd2fa20958",
   "metadata": {},
   "outputs": [
    {
     "data": {
      "text/plain": [
       "payment_key       object\n",
       "coustomer_key     object\n",
       "time_key          object\n",
       "item_key          object\n",
       "store_key         object\n",
       "quantity           int64\n",
       "unit              object\n",
       "unit_price       float64\n",
       "total_price      float64\n",
       "dtype: object"
      ]
     },
     "execution_count": 12,
     "metadata": {},
     "output_type": "execute_result"
    }
   ],
   "source": [
    "fact_table.dtypes"
   ]
  },
  {
   "cell_type": "code",
   "execution_count": 13,
   "id": "c5d98062-f0ba-4b50-a441-4444a6b9643f",
   "metadata": {},
   "outputs": [
    {
     "data": {
      "text/plain": [
       "payment_key       object\n",
       "coustomer_key     object\n",
       "time_key          object\n",
       "item_key          object\n",
       "store_key         object\n",
       "quantity           int64\n",
       "unit              object\n",
       "unit_price       float64\n",
       "total_price      float64\n",
       "dtype: object"
      ]
     },
     "execution_count": 13,
     "metadata": {},
     "output_type": "execute_result"
    }
   ],
   "source": [
    "fact_table['unit_price'] = pd.to_numeric(fact_table['unit_price'])\n",
    "fact_table['total_price'] = pd.to_numeric(fact_table['total_price'])\n",
    "fact_table.dtypes"
   ]
  },
  {
   "cell_type": "code",
   "execution_count": null,
   "id": "e97788be-e7bf-4038-bda9-d28e35da6229",
   "metadata": {},
   "outputs": [],
   "source": []
  },
  {
   "cell_type": "code",
   "execution_count": 14,
   "id": "a4a6d318-d49b-45da-b9ec-23ed8fc5920e",
   "metadata": {},
   "outputs": [
    {
     "name": "stdout",
     "output_type": "stream",
     "text": [
      "Connection to DB established!\n"
     ]
    }
   ],
   "source": [
    "class PostgresConnection(object):\n",
    "    def __init__(self):\n",
    "        self.connection = psycopg2.connect(database=\"ecomdb\",\n",
    "                                           user = \"postgres\",\n",
    "                                           password = \"1234\",\n",
    "                                           host = \"127.0.0.1\",\n",
    "                                           port = \"5432\")\n",
    "\n",
    "    def getConnection(self):\n",
    "        print(\"Connection to DB established!\")\n",
    "        return self.connection\n",
    "\n",
    "con = PostgresConnection().getConnection()"
   ]
  },
  {
   "cell_type": "code",
   "execution_count": 15,
   "id": "bbc71fdb-7f18-4a33-9c29-993192c9309f",
   "metadata": {},
   "outputs": [
    {
     "name": "stdout",
     "output_type": "stream",
     "text": [
      "Connection to DB established!\n"
     ]
    }
   ],
   "source": [
    "con = PostgresConnection().getConnection()\n",
    "insert_stmt = \"INSERT INTO ecomdb_star_schema.trans_dim(payment_key, trans_type, bank_name)\" \\\n",
    "                \"VALUES (%s, %s, %s)\"\n",
    "cur = con.cursor()\n",
    "psycopg2.extras.execute_batch(cur, insert_stmt, trans_dim.values)\n",
    "con.commit()\n",
    "cur.close()"
   ]
  },
  {
   "cell_type": "code",
   "execution_count": 16,
   "id": "f8736417-f996-485b-b1fb-ea15a4e1a9e3",
   "metadata": {},
   "outputs": [
    {
     "name": "stdout",
     "output_type": "stream",
     "text": [
      "Connection to DB established!\n"
     ]
    }
   ],
   "source": [
    "con = PostgresConnection().getConnection()\n",
    "insert_stmt = \"INSERT INTO ecomdb_star_schema.item_dim(item_key,item_name,description,unit_price,stock_quantity,unit)\" \\\n",
    "                \"VALUES (%s, %s, %s, %s, %s, %s)\"\n",
    "cur = con.cursor()\n",
    "psycopg2.extras.execute_batch(cur, insert_stmt, item_dim.values)\n",
    "con.commit()\n",
    "cur.close()"
   ]
  },
  {
   "cell_type": "code",
   "execution_count": 18,
   "id": "5506e126-7477-4ee9-ba73-ddb467922cb0",
   "metadata": {},
   "outputs": [
    {
     "name": "stdout",
     "output_type": "stream",
     "text": [
      "Connection to DB established!\n"
     ]
    }
   ],
   "source": [
    "con = PostgresConnection().getConnection()\n",
    "insert_stmt = \"INSERT INTO ecomdb_star_schema.customer_dim(coustomer_key,name,contact_no,nid,address,street,upazila,district,division)\" \\\n",
    "                \"VALUES (%s, %s, %s, %s, %s, %s, %s, %s, %s)\"\n",
    "cur = con.cursor()\n",
    "psycopg2.extras.execute_batch(cur, insert_stmt, customer_dim.values)\n",
    "con.commit()\n",
    "cur.close()"
   ]
  },
  {
   "cell_type": "code",
   "execution_count": 19,
   "id": "767d0c0c-972e-4b58-bf4c-b83b4005e47e",
   "metadata": {},
   "outputs": [
    {
     "name": "stdout",
     "output_type": "stream",
     "text": [
      "Connection to DB established!\n"
     ]
    }
   ],
   "source": [
    "con = PostgresConnection().getConnection()\n",
    "insert_stmt = \"INSERT INTO ecomdb_star_schema.time_dim(time_key,date,hour,day,week,month,quarter,year)\" \\\n",
    "                \"VALUES (%s, %s, %s, %s, %s, %s, %s, %s)\"\n",
    "cur = con.cursor()\n",
    "psycopg2.extras.execute_batch(cur, insert_stmt, time_dim.values)\n",
    "con.commit()\n",
    "cur.close()"
   ]
  },
  {
   "cell_type": "code",
   "execution_count": 21,
   "id": "a4fa40cf-ee56-4275-aed4-3ac642d62fb3",
   "metadata": {},
   "outputs": [
    {
     "name": "stdout",
     "output_type": "stream",
     "text": [
      "Connection to DB established!\n"
     ]
    }
   ],
   "source": [
    "con = PostgresConnection().getConnection()\n",
    "insert_stmt = \"INSERT INTO ecomdb_star_schema.store_dim(store_key,store_size,location,city,upazila,district,division)\" \\\n",
    "                \"VALUES (%s, %s, %s, %s, %s, %s, %s)\"\n",
    "cur = con.cursor()\n",
    "psycopg2.extras.execute_batch(cur, insert_stmt, store_dim.values)\n",
    "con.commit()\n",
    "cur.close()"
   ]
  },
  {
   "cell_type": "code",
   "execution_count": 22,
   "id": "31a277a9-b52b-4ced-8385-7d7ab8dcc1d3",
   "metadata": {},
   "outputs": [
    {
     "name": "stdout",
     "output_type": "stream",
     "text": [
      "Connection to DB established!\n"
     ]
    }
   ],
   "source": [
    "con = PostgresConnection().getConnection()\n",
    "insert_stmt = \"INSERT INTO ecomdb_star_schema.fact_table(payment_key,coustomer_key,time_key,item_key,store_key,quantity,unit,unit_price,total_price)\" \\\n",
    "                \"VALUES (%s, %s, %s, %s, %s, %s, %s, %s, %s)\"\n",
    "cur = con.cursor()\n",
    "psycopg2.extras.execute_batch(cur, insert_stmt, fact_table.values)\n",
    "con.commit()\n",
    "cur.close()"
   ]
  },
  {
   "cell_type": "code",
   "execution_count": null,
   "id": "045ded16-398f-490f-8ccb-a7d095e1b026",
   "metadata": {},
   "outputs": [],
   "source": []
  }
 ],
 "metadata": {
  "kernelspec": {
   "display_name": "Python 3 (ipykernel)",
   "language": "python",
   "name": "python3"
  },
  "language_info": {
   "codemirror_mode": {
    "name": "ipython",
    "version": 3
   },
   "file_extension": ".py",
   "mimetype": "text/x-python",
   "name": "python",
   "nbconvert_exporter": "python",
   "pygments_lexer": "ipython3",
   "version": "3.9.13"
  }
 },
 "nbformat": 4,
 "nbformat_minor": 5
}
