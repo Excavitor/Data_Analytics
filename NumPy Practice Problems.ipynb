{
 "cells": [
  {
   "cell_type": "markdown",
   "id": "ae73921e-0441-4dbd-9cf7-8e45fb3a3ead",
   "metadata": {},
   "source": [
    "# Shad Abdullah, Intern ID - i23b0034s05"
   ]
  },
  {
   "cell_type": "markdown",
   "id": "4808b4a6-30c1-466c-925f-367c4bd4911c",
   "metadata": {},
   "source": [
    "# Library Import"
   ]
  },
  {
   "cell_type": "code",
   "execution_count": 1,
   "id": "f1a318c9-9d5a-4847-ac05-89f420792a1f",
   "metadata": {},
   "outputs": [],
   "source": [
    "import numpy as np"
   ]
  },
  {
   "cell_type": "markdown",
   "id": "124aad5d-ec66-4bb1-9469-fb5e8b4a60bd",
   "metadata": {},
   "source": [
    "# Problem 1"
   ]
  },
  {
   "cell_type": "code",
   "execution_count": 2,
   "id": "e840bb15-e161-48a7-ad85-a6fb41f86291",
   "metadata": {},
   "outputs": [
    {
     "data": {
      "text/plain": [
       "array([[11, 13, 15, 17],\n",
       "       [17, 19, 21, 23]])"
      ]
     },
     "execution_count": 2,
     "metadata": {},
     "output_type": "execute_result"
    }
   ],
   "source": [
    "a = np.array([[1,2,3,4],[4,5,6,7]])\n",
    "\n",
    "b = np.array([[10,11,12,13],[13,14,15,16]])\n",
    " \n",
    "c = a + b\n",
    "\n",
    "c"
   ]
  },
  {
   "cell_type": "markdown",
   "id": "542e8fae-5f4a-431f-908f-e63034cda38b",
   "metadata": {},
   "source": [
    "# Problem 2"
   ]
  },
  {
   "cell_type": "code",
   "execution_count": 3,
   "id": "2d7fabf4-53bb-47ca-86e1-1f999d3bc1fd",
   "metadata": {},
   "outputs": [
    {
     "data": {
      "text/plain": [
       "array([[ 5, 10],\n",
       "       [15, 20],\n",
       "       [25, 30]])"
      ]
     },
     "execution_count": 3,
     "metadata": {},
     "output_type": "execute_result"
    }
   ],
   "source": [
    "a = np.array([[1, 2],[3, 4],[5, 6]])\n",
    "\n",
    "multi = a * 5\n",
    "\n",
    "multi"
   ]
  },
  {
   "cell_type": "markdown",
   "id": "c0009fc5-621f-4d3d-8aca-060af8970e53",
   "metadata": {},
   "source": [
    "# Problem 3"
   ]
  },
  {
   "cell_type": "code",
   "execution_count": 4,
   "id": "d3b28b53-e032-445b-a594-0603ab48efe5",
   "metadata": {},
   "outputs": [
    {
     "data": {
      "text/plain": [
       "array([[5., 0., 0., 0., 0., 0., 0., 0., 0., 0.],\n",
       "       [0., 5., 0., 0., 0., 0., 0., 0., 0., 0.],\n",
       "       [0., 0., 5., 0., 0., 0., 0., 0., 0., 0.],\n",
       "       [0., 0., 0., 5., 0., 0., 0., 0., 0., 0.],\n",
       "       [0., 0., 0., 0., 5., 0., 0., 0., 0., 0.],\n",
       "       [0., 0., 0., 0., 0., 5., 0., 0., 0., 0.],\n",
       "       [0., 0., 0., 0., 0., 0., 5., 0., 0., 0.],\n",
       "       [0., 0., 0., 0., 0., 0., 0., 5., 0., 0.],\n",
       "       [0., 0., 0., 0., 0., 0., 0., 0., 5., 0.],\n",
       "       [0., 0., 0., 0., 0., 0., 0., 0., 0., 5.]])"
      ]
     },
     "execution_count": 4,
     "metadata": {},
     "output_type": "execute_result"
    }
   ],
   "source": [
    "iden_matrix = np.identity(10)\n",
    "\n",
    "a = 5 * iden_matrix\n",
    "\n",
    "a"
   ]
  },
  {
   "cell_type": "markdown",
   "id": "442cc6ce-af3c-4e3b-8a37-bca2fefcb86c",
   "metadata": {},
   "source": [
    "# Problem 4"
   ]
  },
  {
   "cell_type": "code",
   "execution_count": 5,
   "id": "ed167877-c9d4-47d1-a388-fbfb06333650",
   "metadata": {},
   "outputs": [
    {
     "data": {
      "text/plain": [
       "array([[[100, 105, 110, 115, 120],\n",
       "        [125, 130, 135, 140, 145]],\n",
       "\n",
       "       [[150, 155, 160, 165, 170],\n",
       "        [175, 180, 185, 190, 195]]])"
      ]
     },
     "execution_count": 5,
     "metadata": {},
     "output_type": "execute_result"
    }
   ],
   "source": [
    "_1d_array = np.arange(100, 200, 5)\n",
    "\n",
    "_3d_array = _1d_array.reshape(2, 2, 5)\n",
    "\n",
    "_3d_array"
   ]
  },
  {
   "cell_type": "markdown",
   "id": "b8349284-656b-4886-9fc6-f42084758f34",
   "metadata": {},
   "source": [
    "# Problem 5"
   ]
  },
  {
   "cell_type": "code",
   "execution_count": 6,
   "id": "ae52804f-bc81-4ae6-8725-341e2aa5c4a0",
   "metadata": {},
   "outputs": [
    {
     "data": {
      "text/plain": [
       "array([[1, 2, 5, 6],\n",
       "       [3, 4, 7, 8]])"
      ]
     },
     "execution_count": 6,
     "metadata": {},
     "output_type": "execute_result"
    }
   ],
   "source": [
    "a = np.array([[1, 2],[3, 4]])\n",
    "\n",
    "b = np.array([[5, 6],[7, 8]])\n",
    "\n",
    "m = np.hstack((a, b))\n",
    "\n",
    "m"
   ]
  },
  {
   "cell_type": "markdown",
   "id": "312d05ff-48b8-47d5-9dc5-bf5002a5a6f5",
   "metadata": {},
   "source": [
    "# Problem 6"
   ]
  },
  {
   "cell_type": "code",
   "execution_count": 7,
   "id": "085173c1-4f29-42a4-bc95-a332dee2df5d",
   "metadata": {},
   "outputs": [
    {
     "data": {
      "text/plain": [
       "array([[1, 2],\n",
       "       [3, 4],\n",
       "       [5, 6],\n",
       "       [7, 8]])"
      ]
     },
     "execution_count": 7,
     "metadata": {},
     "output_type": "execute_result"
    }
   ],
   "source": [
    "a = np.array([[1, 2],[3, 4]])\n",
    "\n",
    "b = np.array([[5, 6],[7, 8]])\n",
    "\n",
    "mv = np.vstack((a, b))\n",
    "\n",
    "mv"
   ]
  }
 ],
 "metadata": {
  "kernelspec": {
   "display_name": "Python 3 (ipykernel)",
   "language": "python",
   "name": "python3"
  },
  "language_info": {
   "codemirror_mode": {
    "name": "ipython",
    "version": 3
   },
   "file_extension": ".py",
   "mimetype": "text/x-python",
   "name": "python",
   "nbconvert_exporter": "python",
   "pygments_lexer": "ipython3",
   "version": "3.9.13"
  }
 },
 "nbformat": 4,
 "nbformat_minor": 5
}
